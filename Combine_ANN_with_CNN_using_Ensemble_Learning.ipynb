{
 "cells": [
  {
   "cell_type": "code",
   "execution_count": 1,
   "metadata": {
    "colab": {},
    "colab_type": "code",
    "id": "sTH5EzjW5GXt"
   },
   "outputs": [],
   "source": [
    "import pandas as pd\n",
    "import numpy as np "
   ]
  },
  {
   "cell_type": "markdown",
   "metadata": {
    "colab_type": "text",
    "id": "RmvLlZCi5eyt"
   },
   "source": [
    "# Read the predicted results from our cnn model and ann model that we save in csv "
   ]
  },
  {
   "cell_type": "code",
   "execution_count": 4,
   "metadata": {
    "colab": {},
    "colab_type": "code",
    "id": "UGUNHuCw5dkH"
   },
   "outputs": [],
   "source": [
    "Predict_CNN = pd.read_csv('predict_cnn.csv')\n",
    "Predict_ANN = pd.read_csv('predict_ann.csv')"
   ]
  },
  {
   "cell_type": "markdown",
   "metadata": {
    "colab_type": "text",
    "id": "l02QVeF16AKg"
   },
   "source": [
    "# Convert the results to array"
   ]
  },
  {
   "cell_type": "code",
   "execution_count": 6,
   "metadata": {
    "colab": {},
    "colab_type": "code",
    "id": "gqs4Q7M26Gxx"
   },
   "outputs": [],
   "source": [
    "predict_cnn_array = Predict_CNN.to_numpy()\n",
    "predict_ann_array = Predict_ANN.to_numpy()"
   ]
  },
  {
   "cell_type": "markdown",
   "metadata": {
    "colab_type": "text",
    "id": "QozH0-t4SwRL"
   },
   "source": [
    "# We will concatenate predict_cnn with predict_ann"
   ]
  },
  {
   "cell_type": "code",
   "execution_count": 7,
   "metadata": {
    "colab": {},
    "colab_type": "code",
    "id": "tc1X3Kh5S66y"
   },
   "outputs": [],
   "source": [
    "Allpredict = (predict_cnn_array + predict_ann_array)"
   ]
  },
  {
   "cell_type": "code",
   "execution_count": 8,
   "metadata": {
    "colab": {},
    "colab_type": "code",
    "id": "zQryk1CgTS_3"
   },
   "outputs": [],
   "source": [
    "data = pd.read_csv('train.csv')"
   ]
  },
  {
   "cell_type": "markdown",
   "metadata": {
    "colab_type": "text",
    "id": "tnjmP1rCTY61"
   },
   "source": [
    "# Checking the accuracy after concating the 2 algorithms"
   ]
  },
  {
   "cell_type": "code",
   "execution_count": 9,
   "metadata": {
    "colab": {},
    "colab_type": "code",
    "id": "jrfMHsQtTgEe"
   },
   "outputs": [],
   "source": [
    "Test_set = data[4348:]"
   ]
  },
  {
   "cell_type": "code",
   "execution_count": 10,
   "metadata": {
    "colab": {},
    "colab_type": "code",
    "id": "AtgiIa68TmX8"
   },
   "outputs": [],
   "source": [
    "# Creating an empty list to store the values where the predictions are the maximum out of all the 10 possible values\n",
    "p = []\n",
    "for i in range(0, len(Allpredict)):\n",
    "    p.append(np.where(Allpredict[i] == max(Allpredict[i])))\n",
    "\n",
    "# Creating an empty list to store the values in a clean list\n",
    "predictions = []\n",
    "for i in range(0, len(Allpredict)):\n",
    "    predictions.append(p[i][0][0])"
   ]
  },
  {
   "cell_type": "code",
   "execution_count": 11,
   "metadata": {
    "colab": {},
    "colab_type": "code",
    "id": "yakPUh6VT0k8"
   },
   "outputs": [
    {
     "name": "stderr",
     "output_type": "stream",
     "text": [
      "C:\\Users\\User-7\\anaconda3\\lib\\site-packages\\ipykernel_launcher.py:1: SettingWithCopyWarning: \n",
      "A value is trying to be set on a copy of a slice from a DataFrame.\n",
      "Try using .loc[row_indexer,col_indexer] = value instead\n",
      "\n",
      "See the caveats in the documentation: https://pandas.pydata.org/pandas-docs/stable/user_guide/indexing.html#returning-a-view-versus-a-copy\n",
      "  \"\"\"Entry point for launching an IPython kernel.\n"
     ]
    }
   ],
   "source": [
    "Test_set['Predict classes']=predictions"
   ]
  },
  {
   "cell_type": "code",
   "execution_count": 12,
   "metadata": {
    "colab": {},
    "colab_type": "code",
    "id": "aqiUM30uT1ew"
   },
   "outputs": [
    {
     "name": "stderr",
     "output_type": "stream",
     "text": [
      "C:\\Users\\User-7\\anaconda3\\lib\\site-packages\\ipykernel_launcher.py:1: SettingWithCopyWarning: \n",
      "A value is trying to be set on a copy of a slice from a DataFrame.\n",
      "Try using .loc[row_indexer,col_indexer] = value instead\n",
      "\n",
      "See the caveats in the documentation: https://pandas.pydata.org/pandas-docs/stable/user_guide/indexing.html#returning-a-view-versus-a-copy\n",
      "  \"\"\"Entry point for launching an IPython kernel.\n"
     ]
    }
   ],
   "source": [
    "Test_set['Predict classes'] = Test_set['Predict classes'].map({0:'air_conditioner',1:'car_horn',2:'children_playing',3:'dog_bark', 4: 'drilling', 5:'engine_idling',6:'gun_shot',7:'jackhammer',8:'siren',9:'street_music'})"
   ]
  },
  {
   "cell_type": "code",
   "execution_count": 13,
   "metadata": {
    "colab": {},
    "colab_type": "code",
    "id": "jITZTtdET1zY"
   },
   "outputs": [
    {
     "data": {
      "text/plain": [
       "0.95"
      ]
     },
     "execution_count": 13,
     "metadata": {},
     "output_type": "execute_result"
    }
   ],
   "source": [
    "# Calculating the actual test accuracy\n",
    "round((1-len(Test_set[Test_set['Class']!=Test_set['Predict classes']])/len(Test_set)),2)"
   ]
  },
  {
   "cell_type": "code",
   "execution_count": null,
   "metadata": {},
   "outputs": [],
   "source": []
  }
 ],
 "metadata": {
  "colab": {
   "name": "Combine_ANN_with_CNN_using_Ensemble_Learning",
   "provenance": []
  },
  "kernelspec": {
   "display_name": "Python 3",
   "language": "python",
   "name": "python3"
  },
  "language_info": {
   "codemirror_mode": {
    "name": "ipython",
    "version": 3
   },
   "file_extension": ".py",
   "mimetype": "text/x-python",
   "name": "python",
   "nbconvert_exporter": "python",
   "pygments_lexer": "ipython3",
   "version": "3.7.6"
  }
 },
 "nbformat": 4,
 "nbformat_minor": 1
}
